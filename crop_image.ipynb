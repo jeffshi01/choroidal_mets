{
  "nbformat": 4,
  "nbformat_minor": 0,
  "metadata": {
    "colab": {
      "provenance": []
    },
    "kernelspec": {
      "name": "python3",
      "display_name": "Python 3"
    },
    "language_info": {
      "name": "python"
    }
  },
  "cells": [
    {
      "cell_type": "code",
      "execution_count": null,
      "metadata": {
        "colab": {
          "base_uri": "https://localhost:8080/"
        },
        "id": "Wl59zgpVAcYM",
        "outputId": "8a435ebf-8183-4b39-b689-cafe7d226855"
      },
      "outputs": [
        {
          "output_type": "stream",
          "name": "stdout",
          "text": [
            "Mounted at /content/drive/\n"
          ]
        }
      ],
      "source": [
        "from google.colab import drive\n",
        "drive.mount(\"/content/drive/\", force_remount=True)"
      ]
    },
    {
      "cell_type": "code",
      "source": [
        "import os\n",
        "import PIL\n",
        "import numpy as np\n",
        "import matplotlib\n",
        "from PIL import Image\n",
        "from matplotlib import pyplot as plt\n",
        "\n",
        "img_dir = \"/content/drive/MyDrive/yolov5_torch/datasets/custom_test/\"\n",
        "box_dir = \"/content/drive/MyDrive/yolov5_torch/yolov5/runs/detect/exp19/labels/\"\n",
        "np_dir = \"/content/drive/MyDrive/yolov5_torch/yolov5/runs/detect/exp19/cropped/\"\n",
        "if not os.path.exists(np_dir):\n",
        "  os.makedirs(np_dir, exist_ok=True)\n",
        "\n",
        "def crop_and_save(img_filename, box_filename, np_filename, save_cropped = False, display = False, pad = 0):\n",
        "  \"\"\"\n",
        "  Crops and saves image as numpy array based on YOLOv5 bounding box output values for left and right orbits\n",
        "\n",
        "  Parameters:\n",
        "    img_filename (str): filename for img to perform operation\n",
        "    box_filename (str): filename to bounding boxes for corresponding img\n",
        "    np_filename (str): filenames for saving output numpy array data\n",
        "    save_cropped (bool), default=False: optional argument for whether the cropped images should be saved as png files\n",
        "\n",
        "  Returns:\n",
        "    None. Saves files\n",
        "  \"\"\"\n",
        "  def convert_coords(coords, pad, x_pix = 640, y_pix = 640):\n",
        "    \"\"\"\n",
        "    Converts YOLOv5 bounding box output format into [left, top, right, bottom] format, in pixels\n",
        "    \"\"\"\n",
        "    out = [(coords[0]-coords[2]/2)*x_pix - pad, (coords[1]-coords[3]/2)*y_pix - pad, (coords[0]+coords[2]/2)*x_pix + pad, (coords[1]+coords[3]/2)*y_pix + pad]\n",
        "    return [round(i) for i in out]\n",
        "  # open img and convert to np array\n",
        "  img = Image.open(img_filename).convert('L')\n",
        "  x_pix, y_pix = img.size[0], img.size[1]\n",
        "  arr = np.array(img.getdata())\n",
        "  np_img = np.resize(arr, (img.size[1], img.size[0]))\n",
        "  if display: #optionally display img\n",
        "    plt.imshow(np_img,cmap='gray')\n",
        "    plt.show()\n",
        "\n",
        "  crop_coords = {} # intialize data structure to collect boxes to crop. Dict maps side ('left' or 'right') -> box in [left, top, right, bottom] (pixels) format.\n",
        "  with open(box_filename, 'r') as f:\n",
        "    temp = {'left':[], 'right':[]} # temp dict to hold all YOLOv5 boxes. Will be used to select based on x coord\n",
        "    for line in f: # read lines of f\n",
        "      l = line[:-1].split(' ')\n",
        "      if int(l[0]) == 0: # 0 is left, 1 is right\n",
        "        temp['left'].append([float(i) for i in l[1:]])\n",
        "      else:\n",
        "        temp['right'].append([float(i) for i in l[1:]])\n",
        "    for side in temp:\n",
        "      curr_x_center = temp[side][0][0] # variable to hold the most extreme x coordinate found so far\n",
        "      curr_box = temp[side][0] # variable to hold the box corresponding to the most extreme x coordinate found so far\n",
        "      for box in temp[side]:\n",
        "        if side == 'left':\n",
        "          if box[0] > curr_x_center: # if x-coord of the box is farther to the (bitmap) right, then that is our (patient) left orbit\n",
        "            curr_x_center = box[0] # update running variables\n",
        "            curr_box = box\n",
        "        if side == 'right':\n",
        "          if box[0] < curr_x_center:\n",
        "            curr_x_center = box[0]\n",
        "            curr_box = box\n",
        "      crop_coords[side] = convert_coords(curr_box, pad, x_pix = x_pix, y_pix = y_pix) # assign the correct bounding box to enable cropping\n",
        "  for side, box in crop_coords.items(): #take parsed bounding boxes and crop\n",
        "    cropped_img = np_img[box[1]:box[3], box[0]:box[2]] # slice np array representing our img\n",
        "    np.savetxt(np_filename[:-4]+'-'+side+'.txt', cropped_img)\n",
        "    if save_cropped or display:\n",
        "      plt.imshow(cropped_img, cmap='gray')\n",
        "      if save_cropped:\n",
        "        plt.savefig(np_filename[:-4]+'-'+side+'.png')\n",
        "      if display:\n",
        "        plt.show()\n",
        "\n",
        "# crop_and_save(img_dir+'test_orbits_000.png', box_dir+'test_orbits_000.txt', np_dir+'test_orbits_000.txt', save_cropped=True)\n"
      ],
      "metadata": {
        "id": "R83W0t5OAfuh"
      },
      "execution_count": null,
      "outputs": []
    },
    {
      "cell_type": "code",
      "source": [
        "for img in os.listdir(img_dir):\n",
        "  img_path = os.path.join(img_dir, img)\n",
        "  box_path = os.path.join(box_dir, img[:-4]+'.txt')\n",
        "  np_path = os.path.join(np_dir, img[:-4]+'.txt')\n",
        "  crop_and_save(img_path, box_path, np_path, save_cropped = True, display = True, pad = 1)\n",
        "  print(f'cropped and saved {img}\\n---------------------------------------------------')"
      ],
      "metadata": {
        "colab": {
          "base_uri": "https://localhost:8080/",
          "height": 1000
        },
        "id": "8kfcEC4OuTDp",
        "outputId": "e8659cc2-67d5-4f43-f219-6e7da919b4db"
      },
      "execution_count": null,
      "outputs": []
    },
    {
      "cell_type": "code",
      "source": [
        "print(os.listdir(np_dir))\n",
        "x = np.loadtxt(os.path.join(np_dir, 'test_orbits_001-left.txt')) # retrieve numpy array saved as txt file\n",
        "print(np.shape(x))\n",
        "plt.imshow(x, cmap='gray')\n",
        "plt.show()\n",
        "y = np.loadtxt(os.path.join(np_dir, 'test_orbits_000-right.txt')) # retrieve numpy array saved as txt file\n",
        "print(np.shape(y))\n",
        "plt.imshow(y, cmap='gray')\n",
        "plt.show()"
      ],
      "metadata": {
        "id": "do9bI2LaBbFG",
        "colab": {
          "base_uri": "https://localhost:8080/",
          "height": 915
        },
        "outputId": "4f6f5f5b-58b8-47c5-fc48-1c8060b3bd1c",
        "collapsed": true
      },
      "execution_count": null,
      "outputs": [
        {
          "output_type": "stream",
          "name": "stdout",
          "text": [
            "['test_orbits_000-left.txt', 'test_orbits_000-left.png', 'test_orbits_001-left.txt', 'test_orbits_000-right.png', 'test_orbits_000-right.txt', 'test_orbits_001-left.png', 'test_orbits_002-left.txt', 'test_orbits_001-right.png', 'test_orbits_001-right.txt', 'test_orbits_002-right.txt', 'test_orbits_002-left.png', 'test_orbits_003-left.png', 'test_orbits_002-right.png', 'test_orbits_003-left.txt', 'test_orbits_003-right.txt', 'test_orbits_003-right.png', 'test_orbits_004-left.png', 'test_orbits_004-left.txt', 'test_orbits_004-right.png', 'test_orbits_004-right.txt', 'test_orbits_005-left.txt', 'test_orbits_005-right.txt', 'test_orbits_005-left.png', 'test_orbits_005-right.png', 'test_orbits_006-left.txt', 'test_orbits_006-left.png', 'test_orbits_006-right.txt', 'test_orbits_006-right.png', 'test_orbits_007-left.png', 'test_orbits_007-left.txt', 'test_orbits_007-right.txt', 'test_orbits_008-left.txt', 'test_orbits_007-right.png', 'test_orbits_008-left.png', 'test_orbits_008-right.txt', 'test_orbits_008-right.png', 'test_orbits_009-left.txt', 'test_orbits_009-left.png', 'test_orbits_009-right.txt', 'test_orbits_009-right.png', 'test_orbits_010-left.txt', 'test_orbits_010-right.txt', 'test_orbits_010-left.png', 'test_orbits_010-right.png', 'test_orbits_011-left.txt', 'test_orbits_011-left.png', 'test_orbits_011-right.png', 'test_orbits_011-right.txt']\n",
            "(25, 27)\n"
          ]
        },
        {
          "output_type": "display_data",
          "data": {
            "text/plain": [
              "<Figure size 640x480 with 1 Axes>"
            ],
            "image/png": "[encoded data removed]"
          },
          "metadata": {}
        },
        {
          "output_type": "stream",
          "name": "stdout",
          "text": [
            "(33, 33)\n"
          ]
        },
        {
          "output_type": "display_data",
          "data": {
            "text/plain": [
              "<Figure size 640x480 with 1 Axes>"
            ],
            "image/png": "[encoded data removed]"
          },
          "metadata": {}
        }
      ]
    }
  ]
}