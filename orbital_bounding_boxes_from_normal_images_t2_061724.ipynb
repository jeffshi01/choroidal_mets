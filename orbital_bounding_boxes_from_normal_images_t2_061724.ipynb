{
  "nbformat": 4,
  "nbformat_minor": 0,
  "metadata": {
    "colab": {
      "provenance": []
    },
    "kernelspec": {
      "name": "python3",
      "display_name": "Python 3"
    },
    "language_info": {
      "name": "python"
    }
  },
  "cells": [
    {
      "cell_type": "markdown",
      "source": [
        "### **Install necessary packages**"
      ],
      "metadata": {
        "id": "quKMOkQw_V6Y"
      }
    },
    {
      "cell_type": "code",
      "execution_count": null,
      "metadata": {
        "id": "LRvkTGa-21Vx"
      },
      "outputs": [],
      "source": [
        "from IPython.display import clear_output\n",
        "!pip install supervision\n",
        "!pip install icecream\n",
        "!pip install fastapi\n",
        "!pip install kaleido\n",
        "!pip install python-multipart\n",
        "!pip install pydicom\n",
        "!pip install uvicorn\n",
        "!pip install -q 'git+https://github.com/facebookresearch/segment-anything.git'\n",
        "!pip install -q jupyter_bbox_widget roboflow dataclasses-json supervision\n",
        "!pip install python-pptx\n",
        "clear_output()\n",
        "\n",
        "import os\n",
        "import random\n",
        "\n",
        "import numpy as np\n",
        "import pandas as pd\n",
        "import scipy.io\n",
        "import torch\n",
        "import matplotlib.pyplot as plt\n",
        "import cv2\n",
        "import copy\n",
        "from copy import deepcopy\n",
        "import pydicom\n",
        "\n",
        "import json\n",
        "import supervision as sv\n",
        "from icecream import ic\n",
        "\n",
        "import scipy.io as sio\n",
        "from skimage import segmentation\n",
        "from skimage.segmentation import mark_boundaries\n",
        "\n",
        "from google.colab.patches import cv2_imshow\n",
        "from IPython.core.history import HistoryManager\n",
        "from segment_anything import sam_model_registry, SamAutomaticMaskGenerator, SamPredictor"
      ]
    },
    {
      "cell_type": "markdown",
      "source": [
        "### **Mount Drive**"
      ],
      "metadata": {
        "id": "5tMuyyGX_hdd"
      }
    },
    {
      "cell_type": "code",
      "source": [
        "from google.colab import drive\n",
        "drive.mount('/content/drive', force_remount=True)"
      ],
      "metadata": {
        "colab": {
          "base_uri": "https://localhost:8080/"
        },
        "id": "TdKXdWnj_ofP",
        "outputId": "1249f8d5-4fca-4d1b-d43f-f5f28ee0ab8b"
      },
      "execution_count": null,
      "outputs": [
        {
          "output_type": "stream",
          "name": "stdout",
          "text": [
            "Mounted at /content/drive\n"
          ]
        }
      ]
    },
    {
      "cell_type": "code",
      "source": [
        "PROJECT_HOME = \"/content/drive/My Drive/Projects/orbits\""
      ],
      "metadata": {
        "id": "g7AfrmU7__Pj"
      },
      "execution_count": null,
      "outputs": []
    },
    {
      "cell_type": "code",
      "source": [
        "if not os.path.exists(PROJECT_HOME):\n",
        "  os.makedirs(PROJECT_HOME, exist_ok=True)\n",
        "  print(\"Project home created\")\n",
        "else:\n",
        "  print(\"Project home already exists\")"
      ],
      "metadata": {
        "colab": {
          "base_uri": "https://localhost:8080/"
        },
        "id": "mP56fwE1AlU9",
        "outputId": "c515de93-71c3-429c-e8f0-cca2e10c2db0"
      },
      "execution_count": null,
      "outputs": [
        {
          "output_type": "stream",
          "name": "stdout",
          "text": [
            "Project home already exists\n"
          ]
        }
      ]
    },
    {
      "cell_type": "code",
      "source": [
        "os.chdir(PROJECT_HOME)\n",
        "!pwd"
      ],
      "metadata": {
        "colab": {
          "base_uri": "https://localhost:8080/"
        },
        "id": "lFS2UPWHAoTA",
        "outputId": "7ea25bbb-cfc6-427c-9391-9ba85831c122"
      },
      "execution_count": null,
      "outputs": [
        {
          "output_type": "stream",
          "name": "stdout",
          "text": [
            "/content/drive/My Drive/Projects/orbits\n"
          ]
        }
      ]
    },
    {
      "cell_type": "code",
      "source": [
        "# dataset_path = '/content/drive/My Drive/Datasets/normal_MRI_brains_MSK_and_outside_041724/'\n",
        "save_path = '/content/drive/My Drive/Projects/orbits'\n",
        "\n",
        "if os.path.exists(save_path):\n",
        "  print('Save path found')\n",
        "else:\n",
        "  print('Save path not found')"
      ],
      "metadata": {
        "colab": {
          "base_uri": "https://localhost:8080/"
        },
        "id": "6OniJOgZNXNM",
        "outputId": "8033cd06-690d-452b-d380-43cdf0fd660d"
      },
      "execution_count": null,
      "outputs": [
        {
          "output_type": "stream",
          "name": "stdout",
          "text": [
            "Save path found\n"
          ]
        }
      ]
    },
    {
      "cell_type": "code",
      "source": [
        "dataset_path = '/content/drive/My Drive/Datasets/normal_brains_t2_for_orbits/'\n",
        "# dataset_path = os.path.join(PROJECT_HOME, 'processed_data','t2')\n",
        "\n",
        "if os.path.exists(dataset_path):\n",
        "  print('Dataset found')\n",
        "else:\n",
        "  print('Dataset not found')"
      ],
      "metadata": {
        "colab": {
          "base_uri": "https://localhost:8080/"
        },
        "id": "Pf_fe18pAo_d",
        "outputId": "fc86d582-e3d2-4bb6-f4fe-2a82a55daa32"
      },
      "execution_count": null,
      "outputs": [
        {
          "output_type": "stream",
          "name": "stdout",
          "text": [
            "Dataset found\n"
          ]
        }
      ]
    },
    {
      "cell_type": "code",
      "source": [
        "img_path = os.path.join(dataset_path, '577315.pt')\n",
        "\n",
        "if os.path.exists(img_path):\n",
        "  print('Image path found')\n",
        "else:\n",
        "  print('Image path not found')"
      ],
      "metadata": {
        "colab": {
          "base_uri": "https://localhost:8080/"
        },
        "id": "4WXtMsCkBQtc",
        "outputId": "a9d1b39c-6af3-4d37-af08-88877d56a53c"
      },
      "execution_count": null,
      "outputs": [
        {
          "output_type": "stream",
          "name": "stdout",
          "text": [
            "Image path found\n"
          ]
        }
      ]
    },
    {
      "cell_type": "code",
      "source": [
        "img_paths = os.listdir(dataset_path)\n",
        "img_paths.sort()\n",
        "print(len(img_paths))\n",
        "print(img_paths[0])\n",
        "print(img_paths)"
      ],
      "metadata": {
        "id": "Ox-Dpda1Gu_u"
      },
      "execution_count": null,
      "outputs": []
    },
    {
      "cell_type": "code",
      "source": [
        "img_num = 106\n",
        "\n",
        "def show_img(img_num, img_slice):\n",
        "  my_img_path = os.path.join(dataset_path, img_paths[img_num])\n",
        "\n",
        "  tmp_tensor = torch.load(my_img_path)\n",
        "\n",
        "  my_np_imgs = tmp_tensor.numpy()\n",
        "\n",
        "  my_img = my_np_imgs[img_slice,0,...]\n",
        "\n",
        "  my_img = (my_img * 255).astype(np.uint8)\n",
        "\n",
        "  print(my_img.shape,np.amin(my_img),np.amax(my_img))\n",
        "\n",
        "  plt.imshow(my_img,cmap='gray')\n",
        "  plt.show()\n",
        "\n",
        "\n",
        "\n",
        "lower_slice = 15\n",
        "upper_slice = 7\n",
        "step = -1\n",
        "for img_slice in range(lower_slice, upper_slice, step):\n",
        "  print(img_slice)\n",
        "  show_img(img_num, img_slice)\n",
        "  print('---------------------------------------------')\n",
        "  print(img_paths[img_num])"
      ],
      "metadata": {
        "id": "0lrOtWUmG2xG"
      },
      "execution_count": null,
      "outputs": []
    },
    {
      "cell_type": "code",
      "source": [],
      "metadata": {
        "id": "dvjev-eHtpwS"
      },
      "execution_count": null,
      "outputs": []
    },
    {
      "cell_type": "code",
      "source": [],
      "metadata": {
        "id": "C7f7BT7EuY-W"
      },
      "execution_count": null,
      "outputs": []
    }
  ]
}