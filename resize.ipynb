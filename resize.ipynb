{
  "nbformat": 4,
  "nbformat_minor": 0,
  "metadata": {
    "colab": {
      "provenance": []
    },
    "kernelspec": {
      "name": "python3",
      "display_name": "Python 3"
    },
    "language_info": {
      "name": "python"
    }
  },
  "cells": [
    {
      "cell_type": "code",
      "execution_count": null,
      "metadata": {
        "colab": {
          "base_uri": "https://localhost:8080/"
        },
        "id": "msl07Foh4dr2",
        "outputId": "b957ccef-3f16-4722-c63a-b9aa7f9d7ae1"
      },
      "outputs": [
        {
          "output_type": "stream",
          "name": "stdout",
          "text": [
            "Mounted at /content/drive\n"
          ]
        }
      ],
      "source": [
        "from google.colab import drive\n",
        "drive.mount(\"/content/drive\", force_remount=True)"
      ]
    },
    {
      "cell_type": "code",
      "source": [
        "import os\n",
        "import PIL\n",
        "import numpy as np\n",
        "import matplotlib\n",
        "from PIL import Image\n",
        "from matplotlib import pyplot as plt\n",
        "\n",
        "img_filename = \"/content/drive/MyDrive/Projects/orbits/image_1-cropped.jpg\"\n",
        "img = Image.open(img_filename).convert('L')\n",
        "x_pix, y_pix = img.size[0], img.size[1]\n",
        "arr = np.array(img.getdata())\n",
        "np_img = np.resize(arr, (img.size[1], img.size[0]))\n",
        "plt.imshow(np_img,cmap='gray')\n",
        "plt.show()"
      ],
      "metadata": {
        "colab": {
          "base_uri": "https://localhost:8080/",
          "height": 431
        },
        "id": "JB7SeXEt4oCi",
        "outputId": "8d0690f1-db1c-4f53-b04c-aab488d7e875"
      },
      "execution_count": null,
      "outputs": [
        {
          "output_type": "display_data",
          "data": {
            "text/plain": [
              "<Figure size 640x480 with 1 Axes>"
            ],
            "image/png": "[encoded data removed]"
          },
          "metadata": {}
        }
      ]
    },
    {
      "cell_type": "code",
      "source": [
        "###\n",
        "# Saves patient image slices dictated by a csv to greyscale png files.\n",
        "###\n",
        "\n",
        "import os\n",
        "import numpy as np\n",
        "import csv\n",
        "import matplotlib\n",
        "import torch\n",
        "import PIL\n",
        "from PIL import Image\n",
        "\n",
        "from google.colab import drive\n",
        "drive.mount('/content/drive', force_remount=True)\n",
        "\n",
        "PROJECT_HOME = \"/content/drive/My Drive/Projects/orbits\"\n",
        "\n",
        "if not os.path.exists(PROJECT_HOME):\n",
        "  os.makedirs(PROJECT_HOME, exist_ok=True)\n",
        "  print(\"Project home created\")\n",
        "else:\n",
        "  print(\"Project home already exists\")\n",
        "\n",
        "os.chdir(PROJECT_HOME)\n",
        "!pwd\n",
        "\n",
        "save_path = '/content/drive/My Drive/yolov5_torch/yolov5/runs/detect/exp8'\n",
        "if os.path.exists(save_path):\n",
        "  print('Save path found')\n",
        "else:\n",
        "  print('Save path not found')\n",
        "\n",
        "dataset_path = '/content/drive/My Drive/yolov5_torch/yolov5/runs/detect/exp8'\n",
        "if os.path.exists(dataset_path):\n",
        "  print('Dataset found')\n",
        "else:\n",
        "  print('Dataset not found')\n",
        "\n",
        "img_paths = os.listdir(dataset_path)\n",
        "img_paths.sort()\n",
        "\n",
        "for img in img_paths:\n",
        "  # Opens a image in RGB mode\n",
        "  im = Image.open(os.path.join(dataset_path,img))\n",
        "\n",
        "  # Size of the image in pixels (size of original image)\n",
        "  # (This is not mandatory)\n",
        "  width, height = im.size\n",
        "  print(f'image {img} currently size {width}x{height}')\n",
        "  newsize = (300, 300)\n",
        "  im = im.resize(newsize)\n",
        "  # Shows the image in image viewer\n",
        "  im.show()"
      ],
      "metadata": {
        "colab": {
          "base_uri": "https://localhost:8080/"
        },
        "id": "09m4t6T3Xntn",
        "outputId": "2d404b19-3eba-4d89-fe5c-eee15397439a"
      },
      "execution_count": null,
      "outputs": [
        {
          "output_type": "stream",
          "name": "stdout",
          "text": [
            "Mounted at /content/drive\n",
            "Project home already exists\n",
            "/content/drive/My Drive/Projects/orbits\n",
            "Save path found\n",
            "Dataset found\n",
            "image test_orbits_000.png currently size 256x256\n",
            "image test_orbits_001.png currently size 256x256\n",
            "image test_orbits_002.png currently size 256x256\n",
            "image test_orbits_003.png currently size 256x256\n",
            "image test_orbits_004.png currently size 256x256\n",
            "image test_orbits_005.png currently size 256x256\n",
            "image test_orbits_006.png currently size 256x256\n",
            "image test_orbits_007.png currently size 256x256\n",
            "image test_orbits_008.png currently size 256x256\n",
            "image test_orbits_009.png currently size 256x256\n",
            "image test_orbits_010.png currently size 256x256\n",
            "image test_orbits_011.png currently size 256x256\n"
          ]
        }
      ]
    },
    {
      "cell_type": "code",
      "source": [],
      "metadata": {
        "id": "kCIwnnylXpcF"
      },
      "execution_count": null,
      "outputs": []
    }
  ]
}