{
  "nbformat": 4,
  "nbformat_minor": 0,
  "metadata": {
    "colab": {
      "provenance": []
    },
    "kernelspec": {
      "name": "python3",
      "display_name": "Python 3"
    },
    "language_info": {
      "name": "python"
    }
  },
  "cells": [
    {
      "cell_type": "markdown",
      "source": [
        "Import all dependencies, define directories and functions"
      ],
      "metadata": {
        "id": "et8N52fNkGai"
      }
    },
    {
      "cell_type": "code",
      "execution_count": null,
      "metadata": {
        "colab": {
          "base_uri": "https://localhost:8080/"
        },
        "id": "zrLknc_43Gxh",
        "outputId": "d25e9979-8137-4e6f-92a8-aa7ca6b4afd5"
      },
      "outputs": [
        {
          "output_type": "stream",
          "name": "stdout",
          "text": [
            "Mounted at /content/drive\n",
            "Project home already exists\n",
            "/content/drive/My Drive/Projects/orbits\n",
            "Save path found\n",
            "Dataset found\n",
            "Image path found\n"
          ]
        }
      ],
      "source": [
        "###\n",
        "# Saves patient image slices dictated by a csv to greyscale png files.\n",
        "###\n",
        "\n",
        "import os\n",
        "import numpy as np\n",
        "import csv\n",
        "import matplotlib\n",
        "import torch\n",
        "\n",
        "from google.colab import drive\n",
        "drive.mount('/content/drive', force_remount=True)\n",
        "\n",
        "PROJECT_HOME = \"/content/drive/My Drive/Projects/orbits\"\n",
        "\n",
        "if not os.path.exists(PROJECT_HOME):\n",
        "  os.makedirs(PROJECT_HOME, exist_ok=True)\n",
        "  print(\"Project home created\")\n",
        "else:\n",
        "  print(\"Project home already exists\")\n",
        "\n",
        "os.chdir(PROJECT_HOME)\n",
        "!pwd\n",
        "\n",
        "save_path = PROJECT_HOME\n",
        "if os.path.exists(save_path):\n",
        "  print('Save path found')\n",
        "else:\n",
        "  print('Save path not found')\n",
        "\n",
        "dataset_path = '/content/drive/My Drive/Datasets/normal_brains_t2_for_orbits/'\n",
        "if os.path.exists(dataset_path):\n",
        "  print('Dataset found')\n",
        "else:\n",
        "  print('Dataset not found')\n",
        "\n",
        "img_path = os.path.join(dataset_path, '577315.pt')\n",
        "if os.path.exists(img_path):\n",
        "  print('Image path found')\n",
        "else:\n",
        "  print('Image path not found')\n",
        "\n",
        "img_paths = os.listdir(dataset_path)\n",
        "img_paths.sort()\n",
        "\n",
        "def create_np_bitmap(pt, img_slice, dataset_path=dataset_path):\n",
        "  \"\"\"\n",
        "  create a numpy array for a greyscale image\n",
        "\n",
        "  Parameters:\n",
        "    pt (str): pt number (same as filename of the stored image)\n",
        "    img_slice (int): slice from the patient stack\n",
        "    dataset_path (str): path to find the image datasets\n",
        "  Returns:\n",
        "    numpy array (256x256)\n",
        "  \"\"\"\n",
        "  my_img_path = os.path.join(dataset_path, pt)\n",
        "  tmp_tensor = torch.load(my_img_path)\n",
        "  my_np_imgs = tmp_tensor.numpy()\n",
        "  my_img = my_np_imgs[img_slice,0,...]\n",
        "  my_img = (my_img * 255).astype(np.uint8)\n",
        "  return my_img\n",
        "\n",
        "def convert(my_img, i, save_path=save_path):\n",
        "  \"\"\"\n",
        "  Converts my_img to a greyscale png\n",
        "\n",
        "  Parameters:\n",
        "    my_img (numpy array): represents image to save\n",
        "    i (int): img number to save\n",
        "    save_path (str): path to save the images\n",
        "  \"\"\"\n",
        "  matplotlib.image.imsave(f'{save_path}/test_orbits_{i:03d}.png', my_img, cmap = 'gray')\n"
      ]
    },
    {
      "cell_type": "markdown",
      "source": [
        "Save selected images as png files"
      ],
      "metadata": {
        "id": "MDJmLjxXkY0Q"
      }
    },
    {
      "cell_type": "code",
      "source": [
        "selected_slices_filename = PROJECT_HOME + '/pt_and_slice_vcustom-test.csv'\n",
        "with open(selected_slices_filename, 'r') as f:\n",
        "  reader = csv.DictReader(f, dialect='excel')\n",
        "  selected_slice_nums = {}\n",
        "  for img in reader:\n",
        "    if img['pt'] not in selected_slice_nums:\n",
        "      selected_slice_nums[img['pt']] = [int(img['img_slice'])]\n",
        "    else:\n",
        "      selected_slice_nums[img['pt']].append(int(img['img_slice']))\n",
        "  num_pt = 0\n",
        "  num_img = 0\n",
        "  for pt in img_paths:\n",
        "    if pt in selected_slice_nums:\n",
        "      num_pt+=1\n",
        "      for img_slice in selected_slice_nums[pt]:\n",
        "        convert(create_np_bitmap(pt, img_slice), num_img, save_path=save_path+'/custom-test')\n",
        "        num_img+=1\n",
        "  print(f'saved {num_img} images from {num_pt} patients successfully')"
      ],
      "metadata": {
        "colab": {
          "base_uri": "https://localhost:8080/"
        },
        "id": "2LdkLKrA8LFH",
        "outputId": "089a2d8a-6d51-4673-a1f6-2b182a71b0ae"
      },
      "execution_count": null,
      "outputs": [
        {
          "output_type": "stream",
          "name": "stdout",
          "text": [
            "saved 12 images from 6 patients successfully\n"
          ]
        }
      ]
    }
  ]
}